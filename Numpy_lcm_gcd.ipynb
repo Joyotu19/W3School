{
 "cells": [
  {
   "cell_type": "code",
   "execution_count": 3,
   "id": "27f9aeca-19ec-49af-9672-b2c2ccfae88d",
   "metadata": {},
   "outputs": [
    {
     "name": "stdout",
     "output_type": "stream",
     "text": [
      "105\n",
      "5\n"
     ]
    }
   ],
   "source": [
    "import numpy as np\n",
    "\n",
    "num1 = 15\n",
    "num2 = 35\n",
    "\n",
    "lcm = np.lcm(num1, num2) # to calculate lcm\n",
    "gcd = np.gcd(num1, num2) # to calculate gcd\n",
    "\n",
    "print(lcm)\n",
    "print(gcd)"
   ]
  },
  {
   "cell_type": "code",
   "execution_count": 8,
   "id": "7cdeea29-6910-4092-8eb2-8d138c8de6fd",
   "metadata": {},
   "outputs": [
    {
     "name": "stdout",
     "output_type": "stream",
     "text": [
      "120\n",
      "1\n"
     ]
    }
   ],
   "source": [
    "import numpy as np\n",
    "\n",
    "array = np.array([4, 8, 12, 15])\n",
    "\n",
    "lcm = np.lcm.reduce(array) #Because of the array. np.lcm() works with only two numbers. np.lcm(np.lcm(5,7),9) also could be used.\n",
    "gcd = np.gcd.reduce(array) # same here as well^\n",
    "\n",
    "print(lcm)\n",
    "print(gcd)"
   ]
  },
  {
   "cell_type": "code",
   "execution_count": 9,
   "id": "139d3837-e3f7-4d20-8b74-c9d0aeb5c8ad",
   "metadata": {},
   "outputs": [
    {
     "name": "stdout",
     "output_type": "stream",
     "text": [
      "21162960\n",
      "1\n"
     ]
    }
   ],
   "source": [
    "#creating an array, and finding lcm of it\n",
    "\n",
    "import numpy as np\n",
    "\n",
    "array = np.arange(13,20)\n",
    "\n",
    "lcm = np.lcm.reduce(array)\n",
    "gcd = np.gcd.reduce(array)\n",
    "\n",
    "print(lcm)\n",
    "print(gcd)"
   ]
  },
  {
   "cell_type": "code",
   "execution_count": null,
   "id": "851fa168-b461-495d-885c-c2cddcdaa1ea",
   "metadata": {},
   "outputs": [],
   "source": []
  }
 ],
 "metadata": {
  "kernelspec": {
   "display_name": "Python 3 (ipykernel)",
   "language": "python",
   "name": "python3"
  },
  "language_info": {
   "codemirror_mode": {
    "name": "ipython",
    "version": 3
   },
   "file_extension": ".py",
   "mimetype": "text/x-python",
   "name": "python",
   "nbconvert_exporter": "python",
   "pygments_lexer": "ipython3",
   "version": "3.12.7"
  }
 },
 "nbformat": 4,
 "nbformat_minor": 5
}

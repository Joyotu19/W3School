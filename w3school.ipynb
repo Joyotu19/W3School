{
 "cells": [
  {
   "cell_type": "code",
   "execution_count": 2,
   "id": "6faf6076-f332-4c8e-9daf-8ce8df7726a1",
   "metadata": {},
   "outputs": [
    {
     "name": "stdout",
     "output_type": "stream",
     "text": [
      "4\n"
     ]
    }
   ],
   "source": [
    "mylist = [\"Srilanka\", \"Japan\", \"Malaysia\", \"Indonesia\"]\n",
    "print (len(mylist))"
   ]
  },
  {
   "cell_type": "code",
   "execution_count": 3,
   "id": "7ded43bc-6a46-4a51-afa1-353211944c14",
   "metadata": {},
   "outputs": [
    {
     "name": "stdout",
     "output_type": "stream",
     "text": [
      "Japan\n"
     ]
    }
   ],
   "source": [
    "mylist = [\"Srilanka\", \"Japan\", \"Malaysia\", \"Indonesia\"]\n",
    "print (mylist[1])"
   ]
  },
  {
   "cell_type": "code",
   "execution_count": 7,
   "id": "3f81fa3c-bb5c-4bd9-b4f7-ae7e5d0e7a73",
   "metadata": {},
   "outputs": [
    {
     "name": "stdout",
     "output_type": "stream",
     "text": [
      "['India', 'Japan', 'Malaysia', 'Indonesia']\n"
     ]
    }
   ],
   "source": [
    "mylist = [\"Srilanka\", \"Japan\", \"Malaysia\", \"Indonesia\"]\n",
    "mylist[0] = \"India\"\n",
    "print (mylist)"
   ]
  },
  {
   "cell_type": "code",
   "execution_count": 9,
   "id": "4c316074-6af2-489e-8aee-5606b45d4754",
   "metadata": {},
   "outputs": [
    {
     "name": "stdout",
     "output_type": "stream",
     "text": [
      "['Bangladesh', 'Srilanka', 'Japan', 'Malaysia', 'Indonesia']\n"
     ]
    }
   ],
   "source": [
    "mylist = [\"Srilanka\", \"Japan\", \"Malaysia\", \"Indonesia\"]\n",
    "mylist.insert(0, \"Bangladesh\")\n",
    "print (mylist)"
   ]
  },
  {
   "cell_type": "code",
   "execution_count": 10,
   "id": "7e7e5912-34ea-40f6-9719-887c613ad3d7",
   "metadata": {},
   "outputs": [
    {
     "name": "stdout",
     "output_type": "stream",
     "text": [
      "['Srilanka', 'Japan', 'Malaysia', 'Indonesia', 'Bangladesh']\n"
     ]
    }
   ],
   "source": [
    "mylist = [\"Srilanka\", \"Japan\", \"Malaysia\", \"Indonesia\"]\n",
    "mylist.append(\"Bangladesh\")\n",
    "print (mylist)"
   ]
  },
  {
   "cell_type": "code",
   "execution_count": 36,
   "id": "bfdefe70-cf89-4869-95ac-618bc570f7ee",
   "metadata": {},
   "outputs": [
    {
     "name": "stdout",
     "output_type": "stream",
     "text": [
      "['Srilanka', 'Japan', 'Thailand', 'Singapore', 'Brunei', 'USA']\n"
     ]
    }
   ],
   "source": [
    "mylist = [\"Srilanka\", \"Japan\", \"Malaysia\", \"Indonesia\"]\n",
    "mylist.insert(3, \"Brunei\")\n",
    "mylist[4] = \"USA\"\n",
    "mylist[2:3] = \"Thailand\", \"Singapore\"\n",
    "print (mylist)"
   ]
  },
  {
   "cell_type": "code",
   "execution_count": 37,
   "id": "9bd3a67d-24b7-4e58-9409-719e9cf68a4b",
   "metadata": {},
   "outputs": [
    {
     "name": "stdout",
     "output_type": "stream",
     "text": [
      "['India', 'Japan', 'Malaysia', 'Bali', 'Karimun Jawa', 'Germany', 'Australia']\n"
     ]
    }
   ],
   "source": [
    "mylist = [\"Srilanka\", \"Japan\", \"Malaysia\", \"Indonesia\", \"Germany\"]\n",
    "mylist [0] = \"India\"\n",
    "mylist.append(\"Australia\")\n",
    "mylist[3:4] = \"Bali\", \"Karimun Jawa\"\n",
    "print(mylist)"
   ]
  },
  {
   "cell_type": "code",
   "execution_count": 30,
   "id": "f2ef9b6c-2523-4a2c-b331-c77b886b76d0",
   "metadata": {},
   "outputs": [
    {
     "name": "stdout",
     "output_type": "stream",
     "text": [
      "['India', 'Japan', 'Bali', 'Karimun Jawa', 'Australia']\n"
     ]
    }
   ],
   "source": [
    "mylist = [\"Srilanka\", \"Japan\", \"Malaysia\", \"Indonesia\", \"Germany\"]\n",
    "mylist [0] = \"India\"\n",
    "mylist.append(\"Australia\")\n",
    "mylist[3:4] = \"Bali\", \"Karimun Jawa\"\n",
    "mylist.remove(\"Malaysia\")\n",
    "mylist.pop(4)\n",
    "print(mylist)"
   ]
  },
  {
   "cell_type": "code",
   "execution_count": 38,
   "id": "cd2ccf59-857b-408b-8b06-b94623d69014",
   "metadata": {},
   "outputs": [
    {
     "name": "stdout",
     "output_type": "stream",
     "text": [
      "['India', 'Japan', 'Bali', 'Karimun Jawa', 'Australia']\n"
     ]
    }
   ],
   "source": [
    "mylist = [\"Srilanka\", \"Japan\", \"Malaysia\", \"Indonesia\", \"Germany\"]\n",
    "mylist [0] = \"India\"\n",
    "mylist.append(\"Australia\")\n",
    "mylist[3:4] = \"Bali\", \"Karimun Jawa\"\n",
    "mylist.remove(\"Malaysia\")\n",
    "mylist.pop(4)\n",
    "print(mylist)"
   ]
  },
  {
   "cell_type": "code",
   "execution_count": 39,
   "id": "7fe6a453-63b5-4ac9-8448-c2a354617bc8",
   "metadata": {},
   "outputs": [
    {
     "name": "stdout",
     "output_type": "stream",
     "text": [
      "['India', 'Japan', 'Malaysia', 'Bali', 'Karimun Jawa', 'Germany', 'Australia']\n"
     ]
    }
   ],
   "source": [
    "list = ['India', 'Japan', 'Malaysia', 'Bali', 'Karimun Jawa', 'Germany', 'Australia']\n",
    "print(list)"
   ]
  },
  {
   "cell_type": "code",
   "execution_count": 40,
   "id": "5c6c253c-6fb1-411e-b948-957a7590b1d9",
   "metadata": {},
   "outputs": [
    {
     "name": "stdout",
     "output_type": "stream",
     "text": [
      "7\n"
     ]
    }
   ],
   "source": [
    "list = ['India', 'Japan', 'Malaysia', 'Bali', 'Karimun Jawa', 'Germany', 'Australia']\n",
    "\n",
    "print(len(list))\n"
   ]
  },
  {
   "cell_type": "code",
   "execution_count": 41,
   "id": "8c76548c-41ec-427e-bbda-594c327d6c4f",
   "metadata": {},
   "outputs": [
    {
     "name": "stdout",
     "output_type": "stream",
     "text": [
      "['India', 'Japan', 'Malaysia', 'Bali', 'Karimun Jawa']\n"
     ]
    }
   ],
   "source": [
    "list = ['India', 'Japan', 'Malaysia', 'Bali', 'Karimun Jawa', 'Germany', 'Australia']\n",
    "print(list[:5])"
   ]
  },
  {
   "cell_type": "code",
   "execution_count": 45,
   "id": "f5524147-8807-420a-987a-7ee0f0329ea3",
   "metadata": {},
   "outputs": [
    {
     "name": "stdout",
     "output_type": "stream",
     "text": [
      "['Germany', 'Australia']\n"
     ]
    }
   ],
   "source": [
    "list = ['India', 'Japan', 'Malaysia', 'Bali', 'Karimun Jawa', 'Germany', 'Australia']\n",
    "print(list [5:])"
   ]
  },
  {
   "cell_type": "code",
   "execution_count": 46,
   "id": "6df4cf86-5068-4a1c-ad27-8c41b3913cb6",
   "metadata": {},
   "outputs": [
    {
     "name": "stdout",
     "output_type": "stream",
     "text": [
      "['India', 'Japan', 'Malaysia', 'Bali', 'Karimun Jawa', 'Germany', 'Australia', 'USA']\n"
     ]
    }
   ],
   "source": [
    "list = ['India', 'Japan', 'Malaysia', 'Bali', 'Karimun Jawa', 'Germany', 'Australia']\n",
    "list.append(\"USA\")\n",
    "print(list)"
   ]
  },
  {
   "cell_type": "code",
   "execution_count": 48,
   "id": "9ed65559-0d9b-4f8e-9d47-4e5a481270da",
   "metadata": {},
   "outputs": [
    {
     "name": "stdout",
     "output_type": "stream",
     "text": [
      "['India', 'Japan', 'Malaysia', 'Bali', 'USA', 'Karimun Jawa', 'Germany', 'Australia']\n"
     ]
    }
   ],
   "source": [
    "list = ['India', 'Japan', 'Malaysia', 'Bali', 'Karimun Jawa', 'Germany', 'Australia']\n",
    "list.insert(4, \"USA\")\n",
    "print(list)"
   ]
  },
  {
   "cell_type": "code",
   "execution_count": 49,
   "id": "a91dfcad-9a0a-4182-a9bd-0c284bc67274",
   "metadata": {},
   "outputs": [
    {
     "name": "stdout",
     "output_type": "stream",
     "text": [
      "['India', 'Japan', 'Malaysia', 'Indonesia', 'Germany', 'Australia']\n"
     ]
    }
   ],
   "source": [
    "list = ['India', 'Japan', 'Malaysia', 'Bali', 'Karimun Jawa', 'Germany', 'Australia']\n",
    "list[3:5] = [\"Indonesia\"]\n",
    "print(list)"
   ]
  },
  {
   "cell_type": "code",
   "execution_count": 50,
   "id": "e6dded27-bbac-430f-a000-a337553ac955",
   "metadata": {},
   "outputs": [
    {
     "name": "stdout",
     "output_type": "stream",
     "text": [
      "['India', 'Japan', 'Malaysia', 'Indonesia', ['Berlin', 'Dortmund'], 'Australia']\n"
     ]
    }
   ],
   "source": [
    "list = ['India', 'Japan', 'Malaysia', 'Indonesia', 'Germany', 'Australia']\n",
    "list[4] = [\"Berlin\", \"Dortmund\"]\n",
    "print(list)"
   ]
  },
  {
   "cell_type": "code",
   "execution_count": 51,
   "id": "08a3c03c-4762-40bf-9ae2-a4e395fd2483",
   "metadata": {},
   "outputs": [
    {
     "name": "stdout",
     "output_type": "stream",
     "text": [
      "Australia\n"
     ]
    }
   ],
   "source": [
    "list = ['India', 'Japan', 'Malaysia', 'Indonesia', 'Germany', 'Australia']\n",
    "list[4] = [\"Berlin\", \"Dortmund\"]\n",
    "print(list[5])"
   ]
  },
  {
   "cell_type": "code",
   "execution_count": 52,
   "id": "5fc4b91e-0035-4742-b5e1-fb4d018e9b7f",
   "metadata": {},
   "outputs": [
    {
     "name": "stdout",
     "output_type": "stream",
     "text": [
      "['India', 'Japan', 'Malaysia', 'Indonesia', 'Berlin', 'Dortmund', 'Australia']\n"
     ]
    }
   ],
   "source": [
    "list = ['India', 'Japan', 'Malaysia', 'Indonesia', 'Germany', 'Australia']\n",
    "list[4:5] = [\"Berlin\", \"Dortmund\"]\n",
    "print(list)"
   ]
  },
  {
   "cell_type": "code",
   "execution_count": 53,
   "id": "9dde031c-0eaa-4099-97d1-69cc60279f6c",
   "metadata": {},
   "outputs": [
    {
     "name": "stdout",
     "output_type": "stream",
     "text": [
      "Dortmund\n"
     ]
    }
   ],
   "source": [
    "list = ['India', 'Japan', 'Malaysia', 'Indonesia', 'Germany', 'Australia']\n",
    "list[4:5] = [\"Berlin\", \"Dortmund\"]\n",
    "print(list[5])"
   ]
  },
  {
   "cell_type": "code",
   "execution_count": 54,
   "id": "c9426cab-e9b7-472b-85c9-ad31271a1f6e",
   "metadata": {},
   "outputs": [
    {
     "name": "stdout",
     "output_type": "stream",
     "text": [
      "['India', 'Malaysia', 'Indonesia', 'Berlin', 'Dortmund', 'Australia']\n"
     ]
    }
   ],
   "source": [
    "list = ['India', 'Japan', 'Malaysia', 'Indonesia', 'Berlin', 'Dortmund', 'Australia']\n",
    "list.remove('Japan')\n",
    "print(list)"
   ]
  },
  {
   "cell_type": "code",
   "execution_count": 55,
   "id": "c5f4a711-e357-4edc-9799-3011038bf097",
   "metadata": {},
   "outputs": [
    {
     "name": "stdout",
     "output_type": "stream",
     "text": [
      "['India', 'Malaysia', 'Indonesia', 'Berlin', 'Dortmund', 'Australia']\n"
     ]
    }
   ],
   "source": [
    "list = ['India', 'Japan', 'Malaysia', 'Indonesia', 'Berlin', 'Dortmund', 'Australia']\n",
    "list.pop(1)\n",
    "print(list)"
   ]
  },
  {
   "cell_type": "code",
   "execution_count": 64,
   "id": "31f80704-381b-4a92-b2f8-a6d149b116c2",
   "metadata": {},
   "outputs": [
    {
     "name": "stdout",
     "output_type": "stream",
     "text": [
      "['India', 'Japan', 'Malaysia', 'Indonesia', 'Berlin', 'Dortmund', 'Australia']\n"
     ]
    }
   ],
   "source": [
    "list = ['India', 'Japan', 'Malaysia', 'Indonesia', 'Berlin', 'Dortmund', 'Australia']\n",
    "print(list)"
   ]
  },
  {
   "cell_type": "code",
   "execution_count": 65,
   "id": "aa56b01c-0b9c-4e09-8647-8e79f5272b1c",
   "metadata": {},
   "outputs": [
    {
     "name": "stdout",
     "output_type": "stream",
     "text": [
      "7\n"
     ]
    }
   ],
   "source": [
    "list = ['India', 'Japan', 'Malaysia', 'Indonesia', 'Berlin', 'Dortmund', 'Australia']\n",
    "print(len(list))"
   ]
  },
  {
   "cell_type": "code",
   "execution_count": 67,
   "id": "4daf302a-d164-48f1-b241-6271486870a3",
   "metadata": {},
   "outputs": [
    {
     "name": "stdout",
     "output_type": "stream",
     "text": [
      "Dortmund\n"
     ]
    }
   ],
   "source": [
    "list = ['India', 'Japan', 'Malaysia', 'Indonesia', 'Berlin', 'Dortmund', 'Australia']\n",
    "print(list[5])"
   ]
  },
  {
   "cell_type": "code",
   "execution_count": 68,
   "id": "bee5a540-f93e-4458-85fc-83b1b97e3e7f",
   "metadata": {},
   "outputs": [
    {
     "name": "stdout",
     "output_type": "stream",
     "text": [
      "['India', 'Japan', 'Malaysia', 'Indonesia', 'Berlin', 'Dortmund', 'Australia', 'USA']\n"
     ]
    }
   ],
   "source": [
    "list = ['India', 'Japan', 'Malaysia', 'Indonesia', 'Berlin', 'Dortmund', 'Australia']\n",
    "list.append(\"USA\")\n",
    "print(list)"
   ]
  },
  {
   "cell_type": "code",
   "execution_count": 70,
   "id": "364154d2-23e8-48fa-9684-838da5db5420",
   "metadata": {},
   "outputs": [
    {
     "name": "stdout",
     "output_type": "stream",
     "text": [
      "['India', 'Japan', 'USA', 'Malaysia', 'Indonesia', 'Berlin', 'Dortmund', 'Australia']\n"
     ]
    }
   ],
   "source": [
    "list = ['India', 'Japan', 'Malaysia', 'Indonesia', 'Berlin', 'Dortmund', 'Australia']\n",
    "list.insert(2, \"USA\")\n",
    "print(list)"
   ]
  },
  {
   "cell_type": "code",
   "execution_count": 71,
   "id": "a21e04c3-7280-462f-8cdb-a23114514f61",
   "metadata": {},
   "outputs": [
    {
     "name": "stdout",
     "output_type": "stream",
     "text": [
      "['Japan', 'Malaysia', 'Indonesia', 'Berlin', 'Dortmund', 'Australia']\n"
     ]
    }
   ],
   "source": [
    "list = ['India', 'Japan', 'Malaysia', 'Indonesia', 'Berlin', 'Dortmund', 'Australia']\n",
    "list.remove(\"India\")\n",
    "print(list)"
   ]
  },
  {
   "cell_type": "code",
   "execution_count": 72,
   "id": "3e3d5dd0-547a-455c-ba64-b5a44bda745e",
   "metadata": {},
   "outputs": [
    {
     "name": "stdout",
     "output_type": "stream",
     "text": [
      "['Japan', 'Malaysia', 'Indonesia', 'Berlin', 'Dortmund', 'Australia']\n"
     ]
    }
   ],
   "source": [
    "list = ['India', 'Japan', 'Malaysia', 'Indonesia', 'Berlin', 'Dortmund', 'Australia']\n",
    "list.pop(0)\n",
    "print(list)"
   ]
  },
  {
   "cell_type": "code",
   "execution_count": 73,
   "id": "91d5092a-e3b7-44e4-8b81-1b6698fc9c9a",
   "metadata": {},
   "outputs": [
    {
     "name": "stdout",
     "output_type": "stream",
     "text": [
      "['India', 'Japan', 'Malaysia', ['Bali', 'Java'], 'Berlin', 'Dortmund', 'Australia']\n"
     ]
    }
   ],
   "source": [
    "list = ['India', 'Japan', 'Malaysia', 'Indonesia', 'Berlin', 'Dortmund', 'Australia']\n",
    "list[3] = [\"Bali\", \"Java\"]\n",
    "print(list)"
   ]
  },
  {
   "cell_type": "code",
   "execution_count": 75,
   "id": "1f923e56-7a69-4450-8f92-a097d54a7743",
   "metadata": {},
   "outputs": [
    {
     "name": "stdout",
     "output_type": "stream",
     "text": [
      "['Bali', 'Java']\n"
     ]
    }
   ],
   "source": [
    "list = ['India', 'Japan', 'Malaysia', ['Bali', 'Java'], 'Berlin', 'Dortmund', 'Australia']\n",
    "\n",
    "print(list[3])"
   ]
  },
  {
   "cell_type": "code",
   "execution_count": 76,
   "id": "2ed0a4cf-b523-47d6-8360-618f5380f7be",
   "metadata": {},
   "outputs": [
    {
     "name": "stdout",
     "output_type": "stream",
     "text": [
      "['India', 'Japan', 'Malaysia', 'Bali', 'Java', 'Berlin', 'Dortmund', 'Australia']\n"
     ]
    }
   ],
   "source": [
    "list = ['India', 'Japan', 'Malaysia', 'Indonesia', 'Berlin', 'Dortmund', 'Australia']\n",
    "list[3:4] = [\"Bali\", \"Java\"]\n",
    "print(list)"
   ]
  },
  {
   "cell_type": "code",
   "execution_count": 77,
   "id": "07c63eb2-bded-4259-818e-0ceda2f5f285",
   "metadata": {},
   "outputs": [
    {
     "name": "stdout",
     "output_type": "stream",
     "text": [
      "Java\n"
     ]
    }
   ],
   "source": [
    "list = ['India', 'Japan', 'Malaysia', 'Bali', 'Java', 'Berlin', 'Dortmund', 'Australia']\n",
    "print(list[4])"
   ]
  },
  {
   "cell_type": "code",
   "execution_count": 81,
   "id": "1c48c18e-48be-4a15-ae88-126155db43b2",
   "metadata": {},
   "outputs": [
    {
     "name": "stdout",
     "output_type": "stream",
     "text": [
      "['India', 'Japan', 'Malaysia', 'Indonesia', 'Germany', 'Australia']\n"
     ]
    }
   ],
   "source": [
    "list = ['India', 'Japan', 'Malaysia', 'Bali', 'Java', 'Berlin', 'Dortmund', 'Australia']\n",
    "list[3:5] = [\"Indonesia\"]\n",
    "list[4:6] = [\"Germany\"]\n",
    "print(list)"
   ]
  },
  {
   "cell_type": "code",
   "execution_count": 84,
   "id": "703648cf-a84f-41d7-ba02-66738b3a0a93",
   "metadata": {},
   "outputs": [
    {
     "name": "stdout",
     "output_type": "stream",
     "text": [
      "['Malaysia', 'Java', 'Japan', 'India', 'Dortmund', 'Berlin', 'Bali', 'Australia']\n"
     ]
    }
   ],
   "source": [
    "list = ['India', 'Japan', 'Malaysia', 'Bali', 'Java', 'Berlin', 'Dortmund', 'Australia']\n",
    "list.sort(reverse = True)\n",
    "print(list)"
   ]
  },
  {
   "cell_type": "code",
   "execution_count": 85,
   "id": "5e5ae388-f902-4bdf-9b8d-b569574dc41f",
   "metadata": {},
   "outputs": [
    {
     "name": "stdout",
     "output_type": "stream",
     "text": [
      "['Australia', 'Dortmund', 'Berlin', 'Java', 'Bali', 'Malaysia', 'Japan', 'India']\n"
     ]
    }
   ],
   "source": [
    "list = ['India', 'Japan', 'Malaysia', 'Bali', 'Java', 'Berlin', 'Dortmund', 'Australia']\n",
    "list.reverse()\n",
    "print(list)"
   ]
  },
  {
   "cell_type": "code",
   "execution_count": 88,
   "id": "b96650d0-c4fd-4268-a644-df89bbe7e500",
   "metadata": {},
   "outputs": [
    {
     "name": "stdout",
     "output_type": "stream",
     "text": [
      "[['bang'], 'Japan', 'Malaysia', 'Bali', 'Java', 'Berlin', 'Dortmund', 'Australia']\n"
     ]
    }
   ],
   "source": [
    "list = ['India', 'Japan', 'Malaysia', 'Bali', 'Java', 'Berlin', 'Dortmund', 'Australia']\n",
    "list[0] = [\"bang\"]\n",
    "print(list)"
   ]
  },
  {
   "cell_type": "code",
   "execution_count": 98,
   "id": "3a1280e1-8131-4c76-ad90-81a7690c2b7c",
   "metadata": {},
   "outputs": [
    {
     "ename": "TypeError",
     "evalue": "'list' object is not callable",
     "output_type": "error",
     "traceback": [
      "\u001b[1;31m---------------------------------------------------------------------------\u001b[0m",
      "\u001b[1;31mTypeError\u001b[0m                                 Traceback (most recent call last)",
      "Cell \u001b[1;32mIn[98], line 2\u001b[0m\n\u001b[0;32m      1\u001b[0m x \u001b[38;5;241m=\u001b[39m (\u001b[38;5;124m'\u001b[39m\u001b[38;5;124mIndia\u001b[39m\u001b[38;5;124m'\u001b[39m, \u001b[38;5;124m'\u001b[39m\u001b[38;5;124mJapan\u001b[39m\u001b[38;5;124m'\u001b[39m, \u001b[38;5;124m'\u001b[39m\u001b[38;5;124mMalaysia\u001b[39m\u001b[38;5;124m'\u001b[39m, \u001b[38;5;124m'\u001b[39m\u001b[38;5;124mBali\u001b[39m\u001b[38;5;124m'\u001b[39m, \u001b[38;5;124m'\u001b[39m\u001b[38;5;124mJava\u001b[39m\u001b[38;5;124m'\u001b[39m, \u001b[38;5;124m'\u001b[39m\u001b[38;5;124mBerlin\u001b[39m\u001b[38;5;124m'\u001b[39m, \u001b[38;5;124m'\u001b[39m\u001b[38;5;124mDortmund\u001b[39m\u001b[38;5;124m'\u001b[39m, \u001b[38;5;124m'\u001b[39m\u001b[38;5;124mAustralia\u001b[39m\u001b[38;5;124m'\u001b[39m)\n\u001b[1;32m----> 2\u001b[0m y \u001b[38;5;241m=\u001b[39m \u001b[38;5;28mlist\u001b[39m(x)\n\u001b[0;32m      3\u001b[0m y[\u001b[38;5;241m1\u001b[39m] \u001b[38;5;241m=\u001b[39m \u001b[38;5;124m'\u001b[39m\u001b[38;5;124mPakistan\u001b[39m\u001b[38;5;124m'\u001b[39m\n\u001b[0;32m      4\u001b[0m x \u001b[38;5;241m=\u001b[39m \u001b[38;5;28mtuple\u001b[39m(y)\n",
      "\u001b[1;31mTypeError\u001b[0m: 'list' object is not callable"
     ]
    }
   ],
   "source": [
    "x = ('India', 'Japan', 'Malaysia', 'Bali', 'Java', 'Berlin', 'Dortmund', 'Australia')\n",
    "y = list(x)\n",
    "y[1] = 'Pakistan'\n",
    "x = tuple(y)\n",
    "print(x)"
   ]
  },
  {
   "cell_type": "code",
   "execution_count": 99,
   "id": "4f38bbd0-50b2-45fc-81b6-bd50a063277a",
   "metadata": {},
   "outputs": [
    {
     "ename": "TypeError",
     "evalue": "'list' object is not callable",
     "output_type": "error",
     "traceback": [
      "\u001b[1;31m---------------------------------------------------------------------------\u001b[0m",
      "\u001b[1;31mTypeError\u001b[0m                                 Traceback (most recent call last)",
      "Cell \u001b[1;32mIn[99], line 2\u001b[0m\n\u001b[0;32m      1\u001b[0m x \u001b[38;5;241m=\u001b[39m (\u001b[38;5;124m\"\u001b[39m\u001b[38;5;124mapple\u001b[39m\u001b[38;5;124m\"\u001b[39m, \u001b[38;5;124m\"\u001b[39m\u001b[38;5;124mbanana\u001b[39m\u001b[38;5;124m\"\u001b[39m, \u001b[38;5;124m\"\u001b[39m\u001b[38;5;124mcherry\u001b[39m\u001b[38;5;124m\"\u001b[39m)\n\u001b[1;32m----> 2\u001b[0m y \u001b[38;5;241m=\u001b[39m \u001b[38;5;28mlist\u001b[39m(x)\n\u001b[0;32m      3\u001b[0m y[\u001b[38;5;241m1\u001b[39m] \u001b[38;5;241m=\u001b[39m \u001b[38;5;124m\"\u001b[39m\u001b[38;5;124mkiwi\u001b[39m\u001b[38;5;124m\"\u001b[39m\n\u001b[0;32m      4\u001b[0m x \u001b[38;5;241m=\u001b[39m \u001b[38;5;28mtuple\u001b[39m(y)\n",
      "\u001b[1;31mTypeError\u001b[0m: 'list' object is not callable"
     ]
    }
   ],
   "source": [
    "x = (\"apple\", \"banana\", \"cherry\")\n",
    "y = list(x)\n",
    "y[1] = \"kiwi\"\n",
    "x = tuple(y)\n",
    "\n",
    "print(x)"
   ]
  },
  {
   "cell_type": "code",
   "execution_count": 100,
   "id": "f2c39bef-9044-414f-96f3-189df8077d77",
   "metadata": {},
   "outputs": [
    {
     "name": "stdout",
     "output_type": "stream",
     "text": [
      "<class 'list'>\n"
     ]
    }
   ],
   "source": [
    "print(type(list))"
   ]
  },
  {
   "cell_type": "code",
   "execution_count": 101,
   "id": "31e3d74a-8992-4586-a3ff-a25fbc897b15",
   "metadata": {},
   "outputs": [],
   "source": [
    "del list"
   ]
  },
  {
   "cell_type": "code",
   "execution_count": 102,
   "id": "9a25f121-81e3-437a-b086-03acc56b88f2",
   "metadata": {},
   "outputs": [
    {
     "ename": "TypeError",
     "evalue": "'tuple' object is not callable",
     "output_type": "error",
     "traceback": [
      "\u001b[1;31m---------------------------------------------------------------------------\u001b[0m",
      "\u001b[1;31mTypeError\u001b[0m                                 Traceback (most recent call last)",
      "Cell \u001b[1;32mIn[102], line 4\u001b[0m\n\u001b[0;32m      2\u001b[0m y \u001b[38;5;241m=\u001b[39m \u001b[38;5;28mlist\u001b[39m(x)\n\u001b[0;32m      3\u001b[0m y[\u001b[38;5;241m1\u001b[39m] \u001b[38;5;241m=\u001b[39m \u001b[38;5;124m\"\u001b[39m\u001b[38;5;124mkiwi\u001b[39m\u001b[38;5;124m\"\u001b[39m\n\u001b[1;32m----> 4\u001b[0m x \u001b[38;5;241m=\u001b[39m \u001b[38;5;28mtuple\u001b[39m(y)\n\u001b[0;32m      6\u001b[0m \u001b[38;5;28mprint\u001b[39m(x)\n",
      "\u001b[1;31mTypeError\u001b[0m: 'tuple' object is not callable"
     ]
    }
   ],
   "source": [
    "x = (\"apple\", \"banana\", \"cherry\")\n",
    "y = list(x)\n",
    "y[1] = \"kiwi\"\n",
    "x = tuple(y)\n",
    "\n",
    "print(x)"
   ]
  },
  {
   "cell_type": "code",
   "execution_count": 103,
   "id": "a27da215-6798-4085-9c69-0f2bf4a82812",
   "metadata": {},
   "outputs": [],
   "source": [
    "del tuple"
   ]
  },
  {
   "cell_type": "code",
   "execution_count": 104,
   "id": "55ee9a68-fb41-483a-955e-84b1a092bdd1",
   "metadata": {},
   "outputs": [
    {
     "name": "stdout",
     "output_type": "stream",
     "text": [
      "('apple', 'kiwi', 'cherry')\n"
     ]
    }
   ],
   "source": [
    "x = (\"apple\", \"banana\", \"cherry\")\n",
    "y = list(x)\n",
    "y[1] = \"kiwi\"\n",
    "x = tuple(y)\n",
    "\n",
    "print(x)"
   ]
  },
  {
   "cell_type": "code",
   "execution_count": 105,
   "id": "aa5daa39-596b-4798-98eb-765f83564c95",
   "metadata": {},
   "outputs": [
    {
     "ename": "NameError",
     "evalue": "name 'python' is not defined",
     "output_type": "error",
     "traceback": [
      "\u001b[1;31m---------------------------------------------------------------------------\u001b[0m",
      "\u001b[1;31mNameError\u001b[0m                                 Traceback (most recent call last)",
      "Cell \u001b[1;32mIn[105], line 1\u001b[0m\n\u001b[1;32m----> 1\u001b[0m python \u001b[38;5;241m-\u001b[39m\u001b[38;5;241m-\u001b[39mversion\n",
      "\u001b[1;31mNameError\u001b[0m: name 'python' is not defined"
     ]
    }
   ],
   "source": [
    "python --version"
   ]
  },
  {
   "cell_type": "code",
   "execution_count": 106,
   "id": "38c911bb-1c19-4265-aaae-551637b0e96c",
   "metadata": {},
   "outputs": [
    {
     "ename": "NameError",
     "evalue": "name 'python' is not defined",
     "output_type": "error",
     "traceback": [
      "\u001b[1;31m---------------------------------------------------------------------------\u001b[0m",
      "\u001b[1;31mNameError\u001b[0m                                 Traceback (most recent call last)",
      "Cell \u001b[1;32mIn[106], line 1\u001b[0m\n\u001b[1;32m----> 1\u001b[0m \u001b[38;5;28;01mdel\u001b[39;00m python\n",
      "\u001b[1;31mNameError\u001b[0m: name 'python' is not defined"
     ]
    }
   ],
   "source": [
    "del python"
   ]
  },
  {
   "cell_type": "code",
   "execution_count": 107,
   "id": "35cc92e9-347f-4eca-bb0c-d8f974e57d78",
   "metadata": {},
   "outputs": [
    {
     "ename": "NameError",
     "evalue": "name 'Python' is not defined",
     "output_type": "error",
     "traceback": [
      "\u001b[1;31m---------------------------------------------------------------------------\u001b[0m",
      "\u001b[1;31mNameError\u001b[0m                                 Traceback (most recent call last)",
      "Cell \u001b[1;32mIn[107], line 1\u001b[0m\n\u001b[1;32m----> 1\u001b[0m Python \u001b[38;5;241m-\u001b[39m\u001b[38;5;241m-\u001b[39mversion\n",
      "\u001b[1;31mNameError\u001b[0m: name 'Python' is not defined"
     ]
    }
   ],
   "source": [
    "Python --version"
   ]
  },
  {
   "cell_type": "code",
   "execution_count": null,
   "id": "7740de37-6656-424e-b7f0-68a303455dc7",
   "metadata": {},
   "outputs": [],
   "source": []
  }
 ],
 "metadata": {
  "kernelspec": {
   "display_name": "Python 3 (ipykernel)",
   "language": "python",
   "name": "python3"
  },
  "language_info": {
   "codemirror_mode": {
    "name": "ipython",
    "version": 3
   },
   "file_extension": ".py",
   "mimetype": "text/x-python",
   "name": "python",
   "nbconvert_exporter": "python",
   "pygments_lexer": "ipython3",
   "version": "3.12.7"
  }
 },
 "nbformat": 4,
 "nbformat_minor": 5
}

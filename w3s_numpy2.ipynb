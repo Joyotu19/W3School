{
 "cells": [
  {
   "cell_type": "code",
   "execution_count": 6,
   "id": "10b135b9-27f5-478a-86b9-41a6b05a69f1",
   "metadata": {},
   "outputs": [
    {
     "name": "stdout",
     "output_type": "stream",
     "text": [
      "[ 15  24  39  48  65  92  64  91 106  20]\n",
      "[13 20 33 40 55 80 50 75 88  0]\n",
      "[ 14  44 108 176 300 516 399 664 873 100]\n",
      "[14.         11.         12.         11.         12.         14.33333333\n",
      "  8.14285714 10.375      10.77777778  1.        ]\n"
     ]
    }
   ],
   "source": [
    "#adding, subtracting, multiplying, and dividing two arrays\n",
    "import numpy as np\n",
    "\n",
    "array1 = np.array([14,22,36,44,60,86,57,83,97,10])\n",
    "array2 = np.array([1,2,3,4,5,6,7,8,9,10])\n",
    "\n",
    "new_array_add = np.add(array1, array2)\n",
    "print(new_array_add)\n",
    "\n",
    "new_array_sub = np.subtract(array1, array2)\n",
    "print(new_array_sub)\n",
    "\n",
    "new_array_mult = np.multiply(array1, array2)\n",
    "print(new_array_mult)\n",
    "\n",
    "new_array_div = np.divide(array1, array2)\n",
    "print(new_array_div)"
   ]
  },
  {
   "cell_type": "code",
   "execution_count": 17,
   "id": "7126af7a-8f74-43f9-a053-1644c35b2d71",
   "metadata": {},
   "outputs": [
    {
     "name": "stdout",
     "output_type": "stream",
     "text": [
      "[ 0  0  1  1 77  6  3 33]\n",
      "(array([14, 16, 11, 17,  2,  6,  8,  1]), array([ 0,  0,  1,  1, 77,  6,  3, 33]))\n",
      "[ 1  0  2  5  6 83  7  4 55]\n"
     ]
    }
   ],
   "source": [
    "#remainders, mod and absolute values\n",
    "\n",
    "import numpy as np\n",
    "\n",
    "arr1 = np.array([14,32,56,103,243,48,35,98])\n",
    "arr2 = np.array([1,2,5,6,83,7,4,65])\n",
    "arr3 = np.array([1,0,-2,5,-6,83,-7,4,-55])\n",
    "\n",
    "new_arr_rmndr = np.mod(arr1, arr2) #np.remainder() does the same as well\n",
    "print(new_arr_rmndr)\n",
    "\n",
    "new_arr_divmod = np.divmod(arr1, arr2) #first one shows the quotients and the last one is the remainder\n",
    "print(new_arr_divmod)\n",
    "\n",
    "new_arr_abs = np.absolute(arr3)\n",
    "print(new_arr_abs)"
   ]
  },
  {
   "cell_type": "code",
   "execution_count": 45,
   "id": "f59312a6-ba57-46c2-b881-daaa8084060e",
   "metadata": {},
   "outputs": [
    {
     "name": "stdout",
     "output_type": "stream",
     "text": [
      "[-5.  9.]\n",
      "[-5.  9.]\n",
      "3.33\n",
      "[-6.  9.]\n",
      "[-5. 10.]\n",
      "[-5. 10.]\n"
     ]
    }
   ],
   "source": [
    "#ROUNDING VALUES\n",
    "\n",
    "import numpy as np\n",
    "\n",
    "arr = np.array([-5.23, 9.63])\n",
    "\n",
    "truncation_array = np.trunc(arr)\n",
    "print(truncation_array)\n",
    "\n",
    "fix_array = np.fix(arr)\n",
    "print(fix_array)          # trunc() and fix() does the same thing\n",
    "\n",
    "arr1 = np.around(3.3256, 2) #rounds the value around(value, decimal number)\n",
    "print(arr1)\n",
    "\n",
    "floor_array = np.floor(arr)\n",
    "print(floor_array)\n",
    "\n",
    "ceil_array = np.ceil(arr)\n",
    "print(ceil_array)\n",
    "\n",
    "# ^ also can be written as,\n",
    "\n",
    "arr = np.ceil([-5.23, 9.63])\n",
    "print(arr)"
   ]
  },
  {
   "cell_type": "code",
   "execution_count": 46,
   "id": "cef07c00-ff66-4196-94e2-7d2753d6c0eb",
   "metadata": {},
   "outputs": [
    {
     "name": "stdout",
     "output_type": "stream",
     "text": [
      "[0.         0.69314718 1.09861229 1.38629436 1.60943791 1.79175947\n",
      " 1.94591015 2.07944154 2.19722458]\n",
      "[0.         1.         1.5849625  2.         2.32192809 2.5849625\n",
      " 2.80735492 3.         3.169925  ]\n",
      "[0.         0.30103    0.47712125 0.60205999 0.69897    0.77815125\n",
      " 0.84509804 0.90308999 0.95424251]\n"
     ]
    }
   ],
   "source": [
    "#LOGARITHM\n",
    "\n",
    "import numpy as np\n",
    "\n",
    "array = np.arange(1, 10)\n",
    "\n",
    "print(np.log(array)) #for natural log\n",
    "print(np.log2(array)) #for calculating log with base 2\n",
    "print(np.log10(array)) #for calculating log with base 10"
   ]
  },
  {
   "cell_type": "code",
   "execution_count": null,
   "id": "b3c934a9-7576-4488-9269-3dc847cc20f9",
   "metadata": {},
   "outputs": [],
   "source": []
  }
 ],
 "metadata": {
  "kernelspec": {
   "display_name": "Python 3 (ipykernel)",
   "language": "python",
   "name": "python3"
  },
  "language_info": {
   "codemirror_mode": {
    "name": "ipython",
    "version": 3
   },
   "file_extension": ".py",
   "mimetype": "text/x-python",
   "name": "python",
   "nbconvert_exporter": "python",
   "pygments_lexer": "ipython3",
   "version": "3.12.7"
  }
 },
 "nbformat": 4,
 "nbformat_minor": 5
}

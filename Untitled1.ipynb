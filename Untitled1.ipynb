{
 "cells": [
  {
   "cell_type": "code",
   "execution_count": 1,
   "id": "27f9aeca-19ec-49af-9672-b2c2ccfae88d",
   "metadata": {},
   "outputs": [
    {
     "name": "stdout",
     "output_type": "stream",
     "text": [
      "105\n"
     ]
    }
   ],
   "source": [
    "import numpy as np\n",
    "\n",
    "num1 = 15\n",
    "num2 = 35\n",
    "\n",
    "lcm = np.lcm(num1, num2)\n",
    "\n",
    "print(lcm)"
   ]
  },
  {
   "cell_type": "code",
   "execution_count": 5,
   "id": "7cdeea29-6910-4092-8eb2-8d138c8de6fd",
   "metadata": {},
   "outputs": [
    {
     "name": "stdout",
     "output_type": "stream",
     "text": [
      "315\n"
     ]
    }
   ],
   "source": [
    "import numpy as np\n",
    "\n",
    "array = np.array([5,7,9])\n",
    "\n",
    "lcm = np.lcm.reduce(array) #Because of the array. np.lcm() works with only two numbers. np.lcm(np.lcm(5,7),9) also could be used.\n",
    "\n",
    "print(lcm)"
   ]
  },
  {
   "cell_type": "code",
   "execution_count": 6,
   "id": "139d3837-e3f7-4d20-8b74-c9d0aeb5c8ad",
   "metadata": {},
   "outputs": [
    {
     "ename": "AttributeError",
     "evalue": "module 'numpy' has no attribute 'arrange'",
     "output_type": "error",
     "traceback": [
      "\u001b[1;31m---------------------------------------------------------------------------\u001b[0m",
      "\u001b[1;31mAttributeError\u001b[0m                            Traceback (most recent call last)",
      "Cell \u001b[1;32mIn[6], line 5\u001b[0m\n\u001b[0;32m      1\u001b[0m \u001b[38;5;66;03m#creating an array, and finding lcm of it\u001b[39;00m\n\u001b[0;32m      3\u001b[0m \u001b[38;5;28;01mimport\u001b[39;00m \u001b[38;5;21;01mnumpy\u001b[39;00m \u001b[38;5;28;01mas\u001b[39;00m \u001b[38;5;21;01mnp\u001b[39;00m\n\u001b[1;32m----> 5\u001b[0m array \u001b[38;5;241m=\u001b[39m np\u001b[38;5;241m.\u001b[39marrange(\u001b[38;5;241m13\u001b[39m,\u001b[38;5;241m20\u001b[39m)\n\u001b[0;32m      7\u001b[0m lcm \u001b[38;5;241m=\u001b[39m np\u001b[38;5;241m.\u001b[39mlcm\u001b[38;5;241m.\u001b[39mreduce(array)\n\u001b[0;32m      9\u001b[0m \u001b[38;5;28mprint\u001b[39m(lcm)\n",
      "File \u001b[1;32mF:\\ANACONDA\\Lib\\site-packages\\numpy\\__init__.py:333\u001b[0m, in \u001b[0;36m__getattr__\u001b[1;34m(attr)\u001b[0m\n\u001b[0;32m    330\u001b[0m     \u001b[38;5;124m\"\u001b[39m\u001b[38;5;124mRemoved in NumPy 1.25.0\u001b[39m\u001b[38;5;124m\"\u001b[39m\n\u001b[0;32m    331\u001b[0m     \u001b[38;5;28;01mraise\u001b[39;00m \u001b[38;5;167;01mRuntimeError\u001b[39;00m(\u001b[38;5;124m\"\u001b[39m\u001b[38;5;124mTester was removed in NumPy 1.25.\u001b[39m\u001b[38;5;124m\"\u001b[39m)\n\u001b[1;32m--> 333\u001b[0m \u001b[38;5;28;01mraise\u001b[39;00m \u001b[38;5;167;01mAttributeError\u001b[39;00m(\u001b[38;5;124m\"\u001b[39m\u001b[38;5;124mmodule \u001b[39m\u001b[38;5;132;01m{!r}\u001b[39;00m\u001b[38;5;124m has no attribute \u001b[39m\u001b[38;5;124m\"\u001b[39m\n\u001b[0;32m    334\u001b[0m                      \u001b[38;5;124m\"\u001b[39m\u001b[38;5;132;01m{!r}\u001b[39;00m\u001b[38;5;124m\"\u001b[39m\u001b[38;5;241m.\u001b[39mformat(\u001b[38;5;18m__name__\u001b[39m, attr))\n",
      "\u001b[1;31mAttributeError\u001b[0m: module 'numpy' has no attribute 'arrange'"
     ]
    }
   ],
   "source": [
    "#creating an array, and finding lcm of it\n",
    "\n",
    "import numpy as np\n",
    "\n",
    "array = np.arrange(13,20)\n",
    "\n",
    "lcm = np.lcm.reduce(array)\n",
    "\n",
    "print(lcm)"
   ]
  },
  {
   "cell_type": "code",
   "execution_count": null,
   "id": "851fa168-b461-495d-885c-c2cddcdaa1ea",
   "metadata": {},
   "outputs": [],
   "source": []
  }
 ],
 "metadata": {
  "kernelspec": {
   "display_name": "Python 3 (ipykernel)",
   "language": "python",
   "name": "python3"
  },
  "language_info": {
   "codemirror_mode": {
    "name": "ipython",
    "version": 3
   },
   "file_extension": ".py",
   "mimetype": "text/x-python",
   "name": "python",
   "nbconvert_exporter": "python",
   "pygments_lexer": "ipython3",
   "version": "3.12.7"
  }
 },
 "nbformat": 4,
 "nbformat_minor": 5
}
